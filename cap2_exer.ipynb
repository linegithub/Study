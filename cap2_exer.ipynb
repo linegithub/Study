{
 "cells": [
  {
   "attachments": {},
   "cell_type": "markdown",
   "metadata": {},
   "source": [
    "## Mercado Financeiro e Python\n",
    "\n",
    "\n",
    "### Capítulo 2 - Iteração e Decisão"
   ]
  },
  {
   "cell_type": "code",
   "execution_count": 3,
   "metadata": {},
   "outputs": [],
   "source": [
    "import datetime as dt"
   ]
  },
  {
   "cell_type": "code",
   "execution_count": 4,
   "metadata": {},
   "outputs": [],
   "source": [
    "import math as m"
   ]
  },
  {
   "cell_type": "code",
   "execution_count": null,
   "metadata": {},
   "outputs": [],
   "source": [
    "#Comentário\n",
    "\"\"\"Comentário\"\"\"\n",
    "idade = int(input(\"Qual a sua idade?\"))\n",
    "ano = int(dt.datetime.today().strftime(\"%Y\")) - idade\n",
    "print(\"Você nasceu em \",ano)"
   ]
  },
  {
   "cell_type": "code",
   "execution_count": null,
   "metadata": {},
   "outputs": [],
   "source": [
    "raio = float(input(\"Digite o raio de um círculo: \"))\n",
    "area = m.pi * raio**raio\n",
    "print('Area total = ',area)"
   ]
  },
  {
   "cell_type": "code",
   "execution_count": null,
   "metadata": {},
   "outputs": [],
   "source": [
    "x = float(input(\"Valor x: \"))\n",
    "y = float(input(\"Valor y: \"))\n",
    "z = m.sqrt(x**2 + y**2) - m.log(x) + m.exp(y)\n",
    "print('z = ',z)"
   ]
  },
  {
   "cell_type": "code",
   "execution_count": 7,
   "metadata": {},
   "outputs": [
    {
     "name": "stdout",
     "output_type": "stream",
     "text": [
      "Retorno médio =  3117.0\n"
     ]
    }
   ],
   "source": [
    "retorno = 0\n",
    "n = int(input(\"Valor do enésimo fator: \"))\n",
    "for i in range(0,n):\n",
    "    r = float(input(\"Retorno \" + str(i+1) + \": \"))\n",
    "    p = float(input(\"Porcentagem \" + str(i+1) + \": \"))\n",
    "    rAux = r*p\n",
    "    retorno = retorno + rAux\n",
    "print(\"Retorno médio = \",retorno)"
   ]
  },
  {
   "cell_type": "code",
   "execution_count": null,
   "metadata": {},
   "outputs": [],
   "source": [
    "ontem = float(input(\"Valor de ontem: \"))\n",
    "hoje = float(input(\"Valor de hoje: \"))\n",
    "retorno = hoje - ontem\n",
    "if(retorno>0):\n",
    "    textao = \"Lucro\"\n",
    "else:\n",
    "    textao = \"Preju\"\n",
    "print(textao)    "
   ]
  },
  {
   "cell_type": "code",
   "execution_count": null,
   "metadata": {},
   "outputs": [],
   "source": [
    "preco = float(input(\"Preço: \"))\n",
    "if preco<=18:\n",
    "    reacao = \"Baratin\"\n",
    "elif (preco>18) & (preco<=25):\n",
    "    reacao = \"Legal\"\n",
    "elif (preco>25) & (preco<=32):\n",
    "    reacao = \"Caro\"   \n",
    "else:\n",
    "    reacao = \"Assalto\"\n",
    "print(reacao)    "
   ]
  },
  {
   "cell_type": "code",
   "execution_count": null,
   "metadata": {},
   "outputs": [],
   "source": [
    "num = float(input(\"Digite qualquer número: \"))\n",
    "if num % 2 == 0:\n",
    "    mod = \"PAR\"\n",
    "else:\n",
    "    mod = \"ÍMPAR\"\n",
    "print(mod)   "
   ]
  },
  {
   "cell_type": "code",
   "execution_count": null,
   "metadata": {},
   "outputs": [],
   "source": [
    "per1 = str(input(\"Temer sai?\"))\n",
    "if per1 == 's':\n",
    "    per2 = str(input(\"Rodrigo Maia assume?\"))\n",
    "    if per2 == 's':\n",
    "        per3 = str(input(\"Antecipa a eleição?\"))\n",
    "        if per3 == 's':\n",
    "            resp = 'Comprar PETROBRÁS'\n",
    "        else:\n",
    "            resp = 'Comprar USIMINAS'    \n",
    "    else:\n",
    "        per3 = str(input(\"Antecipa a eleição?\"))\n",
    "        if per3 == 's':\n",
    "            resp = 'Comprar GERDAU'\n",
    "        else:\n",
    "            resp = 'Comprar VALE'                \n",
    "else: \n",
    "    per4 = str(input(\"Vai ter greve?\"))\n",
    "    if per4 == 's':\n",
    "        resp = 'Comprar DÓLAR'\n",
    "    else:\n",
    "        resp = 'Comprar OURO'   \n",
    "print(resp)    \n",
    "    \n"
   ]
  },
  {
   "cell_type": "code",
   "execution_count": null,
   "metadata": {},
   "outputs": [],
   "source": [
    "n = int(input(\"Qtde de no.:\"))\n",
    "cont = 1\n",
    "s=0\n",
    "while cont<=n:\n",
    "    s=s+cont\n",
    "    cont=cont+1\n",
    "    print(s)\n",
    "print(s)"
   ]
  },
  {
   "cell_type": "code",
   "execution_count": null,
   "metadata": {},
   "outputs": [],
   "source": [
    "n = int(input(\"Qtde de no.:\"))\n",
    "cont = 1\n",
    "s=0\n",
    "while s<n:\n",
    "    s=cont*5\n",
    "    cont=cont+1\n",
    "    print(s)"
   ]
  },
  {
   "cell_type": "code",
   "execution_count": null,
   "metadata": {},
   "outputs": [],
   "source": [
    "n = int(input(\"Tabuada:\"))\n",
    "cont = 0\n",
    "s = 0\n",
    "print('Tabuada do '+str(n)+':')\n",
    "while cont <= 10:\n",
    "    s = cont*n\n",
    "    print(str(n)+' x '+str(cont)+' = '+str(s))\n",
    "    cont = cont+1"
   ]
  },
  {
   "cell_type": "code",
   "execution_count": null,
   "metadata": {},
   "outputs": [],
   "source": [
    "#soma numeros pares\n",
    "n = int(input(\"Qtde de no.:\"))\n",
    "cont = 1 #tem que começar com 1; se começar com 0, logicamente, não há somatoria\n",
    "s = 0\n",
    "while cont <= n:\n",
    "    s = s+cont\n",
    "    if s % 2==0:\n",
    "        break   \n",
    "    print(s)\n",
    "    cont = cont+1"
   ]
  },
  {
   "cell_type": "code",
   "execution_count": null,
   "metadata": {},
   "outputs": [],
   "source": [
    "#soma números ímpares\n",
    "n = int(input(\"Qtde de no.:\"))\n",
    "cont = 1 #tem que começar com 1; se começar com 0, logicamente, não há somatoria\n",
    "s = 0\n",
    "while cont <= n:\n",
    "    s = s+cont\n",
    "    if s % 2==0:\n",
    "        continue   \n",
    "    print(s)\n",
    "    cont = cont+1"
   ]
  },
  {
   "cell_type": "code",
   "execution_count": 8,
   "metadata": {},
   "outputs": [
    {
     "name": "stdout",
     "output_type": "stream",
     "text": [
      "jose\n",
      "maria\n",
      "ana\n",
      "claudio\n"
     ]
    }
   ],
   "source": [
    "nomes = ['mario','jose','mario','maria','ana','claudio','mario']\n",
    "n = len(nomes)\n",
    "cont = 0\n",
    "while cont < n-1:\n",
    "    if nomes[cont] != 'mario':\n",
    "        print(nomes[cont])\n",
    "    cont = cont +1"
   ]
  },
  {
   "cell_type": "code",
   "execution_count": 9,
   "metadata": {},
   "outputs": [
    {
     "name": "stdout",
     "output_type": "stream",
     "text": [
      "Luiz\n",
      "Luiz\n",
      "Luiz\n",
      "Luiz\n",
      "Luiz\n"
     ]
    }
   ],
   "source": [
    "n = int(input(\"Qtde de no.:\"))\n",
    "for i in range(0,n):\n",
    "    print('Luiz')"
   ]
  },
  {
   "cell_type": "code",
   "execution_count": 10,
   "metadata": {},
   "outputs": [
    {
     "name": "stdout",
     "output_type": "stream",
     "text": [
      "5\n",
      "6\n",
      "7\n",
      "8\n",
      "9\n",
      "10\n"
     ]
    }
   ],
   "source": [
    "for i in range(5,11):\n",
    "    print(i)"
   ]
  },
  {
   "cell_type": "code",
   "execution_count": 11,
   "metadata": {},
   "outputs": [
    {
     "name": "stdout",
     "output_type": "stream",
     "text": [
      "0\n",
      "2\n",
      "4\n",
      "6\n",
      "8\n",
      "10\n",
      "12\n",
      "14\n",
      "16\n",
      "18\n",
      "20\n"
     ]
    }
   ],
   "source": [
    "for i in range(0,21,2):\n",
    "    print(i)"
   ]
  },
  {
   "cell_type": "code",
   "execution_count": 12,
   "metadata": {},
   "outputs": [
    {
     "name": "stdout",
     "output_type": "stream",
     "text": [
      "Soma Total =  267.0\n"
     ]
    }
   ],
   "source": [
    "n = int(input(\"qtde nº: \"))\n",
    "somatotal = 0\n",
    "for i in range(0,n):\n",
    "    r = float(input(\"Numero \" + str(i+1) + \": \"))\n",
    "    somatotal = somatotal + r\n",
    "print(\"Soma Total = \",somatotal)"
   ]
  },
  {
   "cell_type": "code",
   "execution_count": 13,
   "metadata": {},
   "outputs": [
    {
     "name": "stdout",
     "output_type": "stream",
     "text": [
      "um\n",
      "dois\n",
      "três\n",
      "quatro\n",
      "cinco\n"
     ]
    }
   ],
   "source": [
    "listinha = ['um','dois','três','quatro','cinco']\n",
    "for i in range(0,len(listinha)):\n",
    "    print(listinha[i])"
   ]
  },
  {
   "cell_type": "code",
   "execution_count": 14,
   "metadata": {},
   "outputs": [
    {
     "name": "stdout",
     "output_type": "stream",
     "text": [
      "Antiga:  ['um', 'dois', 'três', 'quatro', 'cinco']\n",
      "Appending elements in Nova:  ['um']\n",
      "Appending elements in Nova:  ['um', 'dois']\n",
      "Appending elements in Nova:  ['um', 'dois', 'três']\n",
      "Appending elements in Nova:  ['um', 'dois', 'três', 'quatro']\n",
      "Appending elements in Nova:  ['um', 'dois', 'três', 'quatro', 'cinco']\n",
      "Nova:  ['um', 'dois', 'três', 'quatro', 'cinco']\n"
     ]
    }
   ],
   "source": [
    "listinha = ['um','dois','três','quatro','cinco']\n",
    "listinhanova = []\n",
    "print(\"Antiga: \",listinha)\n",
    "for i in range(0,len(listinha)):\n",
    "    listinhanova.append(listinha[i])\n",
    "    print('Appending elements in Nova: ',listinhanova)\n",
    "print('Nova: ',listinhanova)    "
   ]
  },
  {
   "cell_type": "code",
   "execution_count": 15,
   "metadata": {},
   "outputs": [
    {
     "name": "stdout",
     "output_type": "stream",
     "text": [
      "Antiga:  ['um', 'dois', 'três', 'quatro', 'cinco']\n",
      "Appending elements in Nova:  ['cinco']\n",
      "Appending elements in Nova:  ['cinco', 'quatro']\n",
      "Appending elements in Nova:  ['cinco', 'quatro', 'três']\n",
      "Appending elements in Nova:  ['cinco', 'quatro', 'três', 'dois']\n",
      "Appending elements in Nova:  ['cinco', 'quatro', 'três', 'dois', 'um']\n",
      "Nova:  ['cinco', 'quatro', 'três', 'dois', 'um']\n"
     ]
    }
   ],
   "source": [
    "listinha = ['um','dois','três','quatro','cinco']\n",
    "listinhanova = []\n",
    "print(\"Antiga: \",listinha)\n",
    "for i in range(len(listinha)-1,-1,-1):\n",
    "    listinhanova.append(listinha[i])\n",
    "    print('Appending elements in Nova: ',listinhanova)\n",
    "print('Nova: ',listinhanova) "
   ]
  },
  {
   "cell_type": "code",
   "execution_count": 16,
   "metadata": {},
   "outputs": [
    {
     "name": "stdout",
     "output_type": "stream",
     "text": [
      "Lista única:  ['a', 'b', 'c', 'a', 'd', 'f', 'a', 'b', 'b', 'd', 'c']\n"
     ]
    }
   ],
   "source": [
    "letras = [['a','b','c'],['a','d','f','a'],['b','b','d','c']]\n",
    "nova = []\n",
    "for i in letras:\n",
    "    for x in i:\n",
    "        nova.append(x)\n",
    "print('Lista única: ',nova)"
   ]
  },
  {
   "cell_type": "code",
   "execution_count": 17,
   "metadata": {},
   "outputs": [
    {
     "name": "stdout",
     "output_type": "stream",
     "text": [
      "10! = 3628800\n"
     ]
    }
   ],
   "source": [
    "n = int(input('Insira um número natural positivo:'))\n",
    "fat = 1\n",
    "for i in range(1,n+1):\n",
    "    fat = fat * i\n",
    "print(str(n)+'! =',fat)"
   ]
  },
  {
   "cell_type": "code",
   "execution_count": 19,
   "metadata": {},
   "outputs": [
    {
     "data": {
      "text/plain": [
       "3628800"
      ]
     },
     "execution_count": 19,
     "metadata": {},
     "output_type": "execute_result"
    }
   ],
   "source": [
    "m.factorial(10)"
   ]
  },
  {
   "cell_type": "code",
   "execution_count": 20,
   "metadata": {},
   "outputs": [
    {
     "name": "stdout",
     "output_type": "stream",
     "text": [
      "7.355555555555555\n"
     ]
    }
   ],
   "source": [
    "n = int(input('Insira um número natural positivo:'))\n",
    "x = int(input('Insira um número natural positivo para X:'))\n",
    "fat = 1\n",
    "somatotal = 1\n",
    "for i in range(1,n+1):\n",
    "    fat = fat * i\n",
    "    somatotal += x**i / fat  \n",
    "print(somatotal)"
   ]
  },
  {
   "cell_type": "code",
   "execution_count": 21,
   "metadata": {},
   "outputs": [
    {
     "data": {
      "text/plain": [
       "2.718281828459045"
      ]
     },
     "execution_count": 21,
     "metadata": {},
     "output_type": "execute_result"
    }
   ],
   "source": [
    "m.exp(1)"
   ]
  },
  {
   "attachments": {},
   "cell_type": "markdown",
   "metadata": {},
   "source": [
    "## Exercícios"
   ]
  },
  {
   "cell_type": "code",
   "execution_count": null,
   "metadata": {},
   "outputs": [],
   "source": [
    "n = float(input('Um número: '))\n",
    "if n < 0:\n",
    "    caso = 'negativo'\n",
    "elif n > 0:\n",
    "    caso = 'positivo'\n",
    "else:\n",
    "    caso = 'neutro'\n",
    "print(caso)"
   ]
  },
  {
   "cell_type": "code",
   "execution_count": null,
   "metadata": {},
   "outputs": [],
   "source": [
    "n = []\n",
    "i = 0\n",
    "while i < 3:\n",
    "    inPutz = int(input('Insira um número natural positivo:'))\n",
    "    n.append(inPutz)\n",
    "    i += 1\n",
    "if n[0] == n[1] == n[2]:\n",
    "    triangulo = 'equilátero'\n",
    "elif (n[0] == n[1]) | (n[0] == n[2]) | (n[1] == n[2]):\n",
    "    triangulo = 'isóceles'\n",
    "else: triangulo = 'escaleno'\n",
    "print(triangulo)"
   ]
  },
  {
   "cell_type": "code",
   "execution_count": null,
   "metadata": {},
   "outputs": [],
   "source": [
    "compra = float(input('Valor de compra: '))\n",
    "venda = float(input('Valor de venda: '))\n",
    "lucro = ((venda - compra) / venda) * 100\n",
    "if lucro < 10:\n",
    "    textao = 'Lucro abaixo de 10%'\n",
    "elif lucro > 20:\n",
    "    textao = 'Lucro superior a 20%'\n",
    "else:\n",
    "    textao = 'Lucro intermediário entre 10 e 20%'\n",
    "print(textao, '=', lucro)"
   ]
  },
  {
   "cell_type": "code",
   "execution_count": null,
   "metadata": {},
   "outputs": [],
   "source": [
    "a = float(input('Valor A: '))\n",
    "b = float(input('Valor B: '))\n",
    "c = float(input('Valor C: '))\n",
    "delta = m.pow(b,2) - 4 * a * c\n",
    "if delta == 0:\n",
    "    x = -b / (2*a)\n",
    "    print ('Uma raiz:', x)\n",
    "    print ('A raiz é o vértice da parábola')\n",
    "elif delta < 0:\n",
    "    print('Não existem raizes reais em x') \n",
    "else:\n",
    "    x1 = (-b + m.sqrt(delta)) / (2*a)\n",
    "    x2 = (-b - m.sqrt(delta)) / (2*a)\n",
    "    xV = -b/(2*a) \n",
    "    yV = -delta/(4*a)\n",
    "    print ('Duas raizes:', x1, x2)\n",
    "    print ('Vértices x e y:', xV, yV)"
   ]
  },
  {
   "cell_type": "code",
   "execution_count": 27,
   "metadata": {},
   "outputs": [
    {
     "name": "stdout",
     "output_type": "stream",
     "text": [
      "Desconto de 5% = R$ 9.5\n"
     ]
    }
   ],
   "source": [
    "compra = float(input('Valor de compra: '))\n",
    "if compra<21:\n",
    "    produto = .95 * compra\n",
    "    textao = 'Desconto de 5%'\n",
    "elif (compra>20)&(compra<51):\n",
    "    produto = compra - .1 * compra\n",
    "    textao = 'Desconto de 10%'\n",
    "elif (compra>50)&(compra<101):\n",
    "    produto = compra - .15 * compra\n",
    "    textao = 'Desconto de 15%'\n",
    "elif (compra>100)&(compra<1001):\n",
    "    produto = compra - .2 * compra\n",
    "    textao = 'Desconto de 20%'          \n",
    "else:\n",
    "    produto = .7 * compra\n",
    "    textao = 'Desconto de 30%'\n",
    "print(textao, '= R$', produto)\n",
    "#codigo 1"
   ]
  },
  {
   "cell_type": "code",
   "execution_count": 51,
   "metadata": {},
   "outputs": [
    {
     "name": "stdout",
     "output_type": "stream",
     "text": [
      "Desconto de 20% = R$ 200.0\n"
     ]
    }
   ],
   "source": [
    "compra = float(input('Valor de compra: '))\n",
    "if compra<21:\n",
    "    desconto = .95\n",
    "    textin = '5%'\n",
    "elif (compra>20)&(compra<51):\n",
    "    desconto = .1\n",
    "    textin = '10%'\n",
    "elif (compra>50)&(compra<101):\n",
    "    desconto = .15\n",
    "    textin = '15%'\n",
    "elif (compra>100)&(compra<1001):\n",
    "    desconto  = .2\n",
    "    textin = '20%'          \n",
    "else:\n",
    "    desconto = .7\n",
    "    textin = '30%'\n",
    "\n",
    "produto = desconto * compra\n",
    "print('Desconto de',textin, '= R$', produto)\n",
    "#codigo 2"
   ]
  },
  {
   "cell_type": "code",
   "execution_count": 49,
   "metadata": {},
   "outputs": [
    {
     "name": "stdout",
     "output_type": "stream",
     "text": [
      "Soma PAR:  120 \n",
      "Soma IMPAR:  238\n"
     ]
    }
   ],
   "source": [
    "impar = 0\n",
    "par = 0\n",
    "n = int(input(\"Qtde de números de vendas: \"))\n",
    "for i in range(0,n):\n",
    "    z = int(input())\n",
    "    if (z%2==0):\n",
    "        par += z  \n",
    "    else:\n",
    "        impar += z     \n",
    "print('Soma PAR: ',par, '\\nSoma IMPAR: ',impar)"
   ]
  },
  {
   "cell_type": "code",
   "execution_count": 52,
   "metadata": {},
   "outputs": [
    {
     "name": "stdout",
     "output_type": "stream",
     "text": [
      "Soma = 47.14285714285714\n"
     ]
    }
   ],
   "source": [
    "s = 0\n",
    "n = int(input(\"Termo n: \"))\n",
    "for i in range(1, n+1):\n",
    "    s = s + (70-(i+1))/(7*1)\n",
    "print(\"Soma =\", s)"
   ]
  }
 ],
 "metadata": {
  "kernelspec": {
   "display_name": "Python 3.10.8 64-bit",
   "language": "python",
   "name": "python3"
  },
  "language_info": {
   "codemirror_mode": {
    "name": "ipython",
    "version": 3
   },
   "file_extension": ".py",
   "mimetype": "text/x-python",
   "name": "python",
   "nbconvert_exporter": "python",
   "pygments_lexer": "ipython3",
   "version": "3.10.8"
  },
  "orig_nbformat": 4,
  "vscode": {
   "interpreter": {
    "hash": "b2e2f59ec2125b4e9ae15d56fedd74623d03b4e725f5b762fb47e4794bb49cdd"
   }
  }
 },
 "nbformat": 4,
 "nbformat_minor": 2
}
