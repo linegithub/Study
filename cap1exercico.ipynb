{
  "nbformat": 4,
  "nbformat_minor": 0,
  "metadata": {
    "colab": {
      "provenance": [],
      "authorship_tag": "ABX9TyNYUGIQqZzaJyMIH4lCC1ms",
      "include_colab_link": true
    },
    "kernelspec": {
      "name": "python3",
      "display_name": "Python 3"
    },
    "language_info": {
      "name": "python"
    }
  },
  "cells": [
    {
      "cell_type": "markdown",
      "metadata": {
        "id": "view-in-github",
        "colab_type": "text"
      },
      "source": [
        "<a href=\"https://colab.research.google.com/github/linegithub/Study/blob/master/cap1exercico.ipynb\" target=\"_parent\"><img src=\"https://colab.research.google.com/assets/colab-badge.svg\" alt=\"Open In Colab\"/></a>"
      ]
    },
    {
      "cell_type": "code",
      "execution_count": null,
      "metadata": {
        "id": "60WG74FaRd65"
      },
      "outputs": [],
      "source": [
        "import xlrd as xd\n",
        "import numpy as np\n",
        "import statistics as st\n",
        "import matplotlib.pyplot as plt"
      ]
    },
    {
      "cell_type": "code",
      "source": [
        "#abro o arquivo xlsx e pego a planilha\n",
        "excel = xd.open_workbook('exibov.xlsx')\n",
        "planilha = excel.sheet_by_name('PLAN')"
      ],
      "metadata": {
        "id": "W550MkJVSL2g"
      },
      "execution_count": null,
      "outputs": []
    },
    {
      "cell_type": "code",
      "source": [
        "#pego as colunas de cada planilha e coloco em variáveis diferentes\n",
        "vale = planilha.col_values(0)\n",
        "gerdau = planilha.col_values(1)\n",
        "vale"
      ],
      "metadata": {
        "id": "ZbuzTns3S_yH"
      },
      "execution_count": null,
      "outputs": []
    },
    {
      "cell_type": "code",
      "source": [
        "#por conta dos textos \"vale3\" e \"gerdau\" e o espaçamento em branco, o array tá com dtype diferente\n",
        "vale3 = np.array(vale)\n",
        "ggbr4 = np.array(gerdau)\n",
        "vale3"
      ],
      "metadata": {
        "id": "T47E1rJ3TtlA"
      },
      "execution_count": null,
      "outputs": []
    },
    {
      "cell_type": "code",
      "source": [
        "#primeiro eu deleto esses dados a mais das duas colunas\n",
        "vale3 = np.delete(vale3,[-2,-1])\n",
        "ggbr4 = np.delete(ggbr4,[-2,-1])\n",
        "vale3"
      ],
      "metadata": {
        "id": "im9U5f2tVfAh"
      },
      "execution_count": null,
      "outputs": []
    },
    {
      "cell_type": "code",
      "source": [
        "#e aqui eu mudo o dtype para float\n",
        "vale3= vale3.astype('float64')\n",
        "ggbr4= ggbr4.astype('float64')\n",
        "vale3"
      ],
      "metadata": {
        "id": "EWrZTmf7f8eR"
      },
      "execution_count": null,
      "outputs": []
    },
    {
      "cell_type": "code",
      "source": [
        "#para o eixo X, preparo o tempo de acordo com o tamanho dos dados\n",
        "tempo = np.arange(0,len(vale3))\n",
        "tempo"
      ],
      "metadata": {
        "id": "1QTHRLA2XmDU"
      },
      "execution_count": null,
      "outputs": []
    },
    {
      "cell_type": "code",
      "source": [
        "#faço os gráficos =)\n",
        "plt.subplot(211); plt.plot(tempo,vale3)\n",
        "plt.subplot(212); plt.plot(tempo,ggbr4)"
      ],
      "metadata": {
        "id": "2IuWLkm7YR64"
      },
      "execution_count": null,
      "outputs": []
    },
    {
      "cell_type": "code",
      "source": [
        "retVALE3 = (vale3[1:28] - vale3[0:27]) / vale3[0:27]\n",
        "retVALE3"
      ],
      "metadata": {
        "id": "TDh7CsKJijpx"
      },
      "execution_count": null,
      "outputs": []
    },
    {
      "cell_type": "code",
      "source": [
        "retGGBR4 = (ggbr4[1:28] - ggbr4[0:27]) / ggbr4[0:27]\n",
        "retGGBR4"
      ],
      "metadata": {
        "id": "lth1iwcYjaml"
      },
      "execution_count": null,
      "outputs": []
    },
    {
      "cell_type": "code",
      "source": [
        "time = np.arange(0,len(retGGBR4))\n",
        "time"
      ],
      "metadata": {
        "id": "T3hUgKHSkFLC"
      },
      "execution_count": null,
      "outputs": []
    },
    {
      "cell_type": "code",
      "source": [
        "plt.subplot(221); plt.plot(tempo,vale3)\n",
        "plt.subplot(222); plt.plot(tempo,ggbr4)\n",
        "plt.subplot(223); plt.plot(time,retVALE3)\n",
        "plt.subplot(224); plt.plot(time,retGGBR4)"
      ],
      "metadata": {
        "id": "5JNcyODHj61V"
      },
      "execution_count": null,
      "outputs": []
    }
  ]
}